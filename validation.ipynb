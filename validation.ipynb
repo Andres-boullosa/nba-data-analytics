{
 "cells": [
  {
   "cell_type": "code",
   "execution_count": null,
   "id": "221ec628",
   "metadata": {},
   "outputs": [],
   "source": [
    "def calcular_estadisticas(df):\n",
    "    total_bets = len(df)\n",
    "    df['profit'] = np.where(df['result'] == 1, df['odds'] * df['stake'] - df['stake'], -df['stake'])\n",
    "    wins = df[df['result'] == 1]\n",
    "    loses = df[df['result'] == 0]\n",
    "    roi = df['profit'].sum() / df['stake'].sum()\n",
    "    yield_ = df['profit'].sum() / total_bets\n",
    "    winrate = len(wins) / total_bets\n",
    "\n",
    "    return {\n",
    "        \"Total Bets\": total_bets,\n",
    "        \"ROI\": round(roi, 4),\n",
    "        \"Yield\": round(yield_, 2),\n",
    "        \"Winrate\": round(winrate * 100, 2)\n",
    "    }"
   ]
  },
  {
   "cell_type": "code",
   "execution_count": null,
   "id": "320095f4",
   "metadata": {},
   "outputs": [],
   "source": [
    "import matplotlib.pyplot as plt\n",
    "\n",
    "def return_grafic(df):\n",
    "    df = df.copy()\n",
    "    df['profit'] = np.where(df['result'] == 1, df['odds'] * df['stake'] - df['stake'], -df['stake'])\n",
    "    df['accumulated'] = df['profit'].cumsum()\n",
    "\n",
    "    # Asegurar tipo datetime\n",
    "    df['date'] = pd.to_datetime(df['date'])\n",
    "\n",
    "    # Ordenar por fecha\n",
    "    df = df.sort_values('date')\n",
    "\n",
    "    # Graficar\n",
    "    plt.figure(figsize=(12, 6))\n",
    "    plt.plot(df['date'], df['accumulated'], marker='o', linestyle='-')\n",
    "\n",
    "    # Formateo de fechas\n",
    "    plt.gca().xaxis.set_major_locator(mdates.AutoDateLocator())\n",
    "    plt.gca().xaxis.set_major_formatter(mdates.DateFormatter('%Y-%m-%d'))\n",
    "    plt.xticks(rotation=45, ha='right')\n",
    "\n",
    "    plt.title(\"Cumulative gain over time\")\n",
    "    plt.xlabel(\"Date\")\n",
    "    plt.ylabel(\"Cumulative gain\")\n",
    "    plt.grid(True)\n",
    "    plt.tight_layout()\n",
    "    plt.show()"
   ]
  }
 ],
 "metadata": {
  "language_info": {
   "name": "python"
  }
 },
 "nbformat": 4,
 "nbformat_minor": 5
}
