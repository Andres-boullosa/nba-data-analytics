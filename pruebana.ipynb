{
 "cells": [
  {
   "cell_type": "code",
   "execution_count": 9,
   "id": "5bbd1baf",
   "metadata": {},
   "outputs": [],
   "source": [
    "import sqlite3\n",
    "import pandas as pd\n",
    "\n",
    "# Nombre de la base de datos SQLite\n",
    "database_name = 'NBA_DATA.db'\n",
    "\n",
    "# Conectar a la base de datos\n",
    "conn = sqlite3.connect(database_name)\n",
    "cursor = conn.cursor()\n",
    "\n",
    "# Ejecutar la query SQL para unir las tablas y seleccionar las columnas\n",
    "query = \"\"\"\n",
    "SELECT\n",
    "    g.*,\n",
    "    go.Average_H,\n",
    "    go.Average_A\n",
    "FROM\n",
    "    GAMES AS g\n",
    "LEFT JOIN\n",
    "    GAME_ODS AS go ON g.GAME_ID = go.GAME_ID;\n",
    "\"\"\"\n",
    "\n",
    "# Ejecutar la query y obtener los resultados\n",
    "cursor.execute(query)\n",
    "resultados = cursor.fetchall()\n",
    "resultados\n",
    "\n",
    "games_columns_query = \"PRAGMA table_info(GAMES);\"\n",
    "cursor.execute(games_columns_query)\n",
    "games_columns_info = cursor.fetchall()\n",
    "games_columns = [info[1] for info in games_columns_info]\n",
    "\n",
    "# Definir las columnas del DataFrame resultante\n",
    "columnas_resultantes = games_columns + ['Average_H', 'Average_A']\n",
    "\n",
    "# Crear un DataFrame de pandas con los resultados\n",
    "df_unido = pd.DataFrame(resultados, columns=columnas_resultantes)"
   ]
  },
  {
   "cell_type": "code",
   "execution_count": 13,
   "id": "8a3c9c64",
   "metadata": {},
   "outputs": [
    {
     "data": {
      "text/plain": [
       "año\n",
       "2017     72\n",
       "2018    183\n",
       "2019    160\n",
       "2020     93\n",
       "2021    551\n",
       "2022    176\n",
       "2023    156\n",
       "2024    585\n",
       "2025    794\n",
       "Name: Average_H, dtype: int64"
      ]
     },
     "execution_count": 13,
     "metadata": {},
     "output_type": "execute_result"
    }
   ],
   "source": [
    "df_unido['GAME_DATE'] = pd.to_datetime(df_unido['GAME_DATE'])\n",
    "\n",
    "# Crear la columna 'año' extrayendo el año de la columna 'GAME_DATE'\n",
    "df_unido['año'] = df_unido['GAME_DATE'].dt.year\n",
    "nulos_por_año = df_unido.groupby('año')['Average_H'].apply(lambda x: x.isnull().sum())\n",
    "nulos_por_año"
   ]
  }
 ],
 "metadata": {
  "kernelspec": {
   "display_name": "Python 3",
   "language": "python",
   "name": "python3"
  },
  "language_info": {
   "codemirror_mode": {
    "name": "ipython",
    "version": 3
   },
   "file_extension": ".py",
   "mimetype": "text/x-python",
   "name": "python",
   "nbconvert_exporter": "python",
   "pygments_lexer": "ipython3",
   "version": "3.11.9"
  }
 },
 "nbformat": 4,
 "nbformat_minor": 5
}
